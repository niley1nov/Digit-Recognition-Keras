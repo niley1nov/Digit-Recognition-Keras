{
 "cells": [
  {
   "cell_type": "code",
   "execution_count": 1,
   "metadata": {},
   "outputs": [
    {
     "name": "stderr",
     "output_type": "stream",
     "text": [
      "Using TensorFlow backend.\n"
     ]
    }
   ],
   "source": [
    "import math\n",
    "import numpy as np\n",
    "import pandas as pd\n",
    "import matplotlib.pyplot as plt\n",
    "import scipy\n",
    "from scipy import ndimage\n",
    "from keras.layers import Conv2D,MaxPool2D,LeakyReLU,Flatten,Dense,Input,Dropout,BatchNormalization\n",
    "from keras.models import Model\n",
    "import keras.backend as K\n",
    "from keras.losses import categorical_crossentropy\n",
    "from keras.optimizers import Nadam\n",
    "from keras.regularizers import l2"
   ]
  },
  {
   "cell_type": "code",
   "execution_count": 2,
   "metadata": {},
   "outputs": [],
   "source": [
    "def convert_to_one_hot(Y, C):\n",
    "    Y = Y.astype('int')\n",
    "    Y = np.eye(C)[Y.reshape(-1)].T\n",
    "    return Y"
   ]
  },
  {
   "cell_type": "code",
   "execution_count": 3,
   "metadata": {},
   "outputs": [
    {
     "name": "stdout",
     "output_type": "stream",
     "text": [
      "(42000, 28, 28, 1)\n",
      "(42000, 10)\n",
      "(28000, 28, 28, 1)\n"
     ]
    }
   ],
   "source": [
    "data1 = pd.read_csv('train.csv')\n",
    "data2 = pd.read_csv('test.csv')\n",
    "data1 = np.array(data1)\n",
    "data2 = np.array(data2)\n",
    "X_train = data1[:,1::]/255\n",
    "X_test = data2[:,:]/255\n",
    "n1 = X_train.shape[0]\n",
    "n2 = X_test.shape[0]\n",
    "X_train = np.reshape(X_train,(n1,28,28,1))\n",
    "X_test = np.reshape(X_test,(n2,28,28,1))\n",
    "Y_train = data1[:,np.newaxis,0]\n",
    "Y_train = convert_to_one_hot(Y_train,10).T\n",
    "print(X_train.shape)\n",
    "print(Y_train.shape)\n",
    "print(X_test.shape)"
   ]
  },
  {
   "cell_type": "code",
   "execution_count": 4,
   "metadata": {},
   "outputs": [],
   "source": [
    "batch_size = 64"
   ]
  },
  {
   "cell_type": "code",
   "execution_count": 5,
   "metadata": {},
   "outputs": [],
   "source": [
    "def MODEL():\n",
    "    X_in = Input(shape=(28,28,1),name='image_in')\n",
    "    \n",
    "    X = Conv2D(filters=32,kernel_size=3)(X_in)\n",
    "    X = BatchNormalization()(X)\n",
    "    X = LeakyReLU()(X)\n",
    "    X = Conv2D(filters=32,kernel_size=3)(X)\n",
    "    X = BatchNormalization()(X)\n",
    "    X = LeakyReLU()(X)\n",
    "    X = MaxPool2D()(X)\n",
    "    X = Dropout(0.4)(X)\n",
    "    \n",
    "    X = Conv2D(filters=64,kernel_size=3)(X)\n",
    "    X = BatchNormalization()(X)\n",
    "    X = LeakyReLU()(X)\n",
    "    X = Conv2D(filters=64,kernel_size=3)(X)\n",
    "    X = BatchNormalization()(X)\n",
    "    X = LeakyReLU()(X)\n",
    "    X = MaxPool2D()(X)\n",
    "    X = Dropout(0.4)(X)\n",
    "    \n",
    "    X = Flatten()(X)\n",
    "    \n",
    "    X = Dense(128)(X)\n",
    "    X = BatchNormalization()(X)\n",
    "    X = LeakyReLU()(X)\n",
    "    X = Dropout(0.4)(X)\n",
    "    \n",
    "    X = Dense(10,activation='softmax')(X)\n",
    "    \n",
    "    model = Model(inputs=X_in,outputs=X)\n",
    "    return model"
   ]
  },
  {
   "cell_type": "code",
   "execution_count": 6,
   "metadata": {},
   "outputs": [],
   "source": [
    "def cat_loss(target, output, axis=-1):\n",
    "    output_dimensions = list(range(len(output.shape)))\n",
    "    output /= np.sum(output, axis)[:,None]\n",
    "    output = np.clip(output, K.epsilon(), 1. - K.epsilon())\n",
    "    return -np.mean(np.sum(target * np.log(output), axis))"
   ]
  },
  {
   "cell_type": "code",
   "execution_count": 7,
   "metadata": {},
   "outputs": [],
   "source": [
    "def np_count(t, val):\n",
    "    elements_equal_to_value = np.equal(t, val)\n",
    "    as_ints = elements_equal_to_value.astype('int32')\n",
    "    count = np.sum(as_ints)\n",
    "    return count"
   ]
  },
  {
   "cell_type": "code",
   "execution_count": 8,
   "metadata": {
    "scrolled": true
   },
   "outputs": [
    {
     "name": "stderr",
     "output_type": "stream",
     "text": [
      "WARNING: Logging before flag parsing goes to stderr.\n",
      "W0812 03:50:22.025803 139822823315264 deprecation_wrapper.py:119] From /usr/local/lib/python3.6/dist-packages/keras/backend/tensorflow_backend.py:517: The name tf.placeholder is deprecated. Please use tf.compat.v1.placeholder instead.\n",
      "\n",
      "W0812 03:50:22.038653 139822823315264 deprecation_wrapper.py:119] From /usr/local/lib/python3.6/dist-packages/keras/backend/tensorflow_backend.py:74: The name tf.get_default_graph is deprecated. Please use tf.compat.v1.get_default_graph instead.\n",
      "\n",
      "W0812 03:50:22.039813 139822823315264 deprecation_wrapper.py:119] From /usr/local/lib/python3.6/dist-packages/keras/backend/tensorflow_backend.py:4138: The name tf.random_uniform is deprecated. Please use tf.random.uniform instead.\n",
      "\n",
      "W0812 03:50:22.063959 139822823315264 deprecation_wrapper.py:119] From /usr/local/lib/python3.6/dist-packages/keras/backend/tensorflow_backend.py:174: The name tf.get_default_session is deprecated. Please use tf.compat.v1.get_default_session instead.\n",
      "\n",
      "W0812 03:50:22.064640 139822823315264 deprecation_wrapper.py:119] From /usr/local/lib/python3.6/dist-packages/keras/backend/tensorflow_backend.py:181: The name tf.ConfigProto is deprecated. Please use tf.compat.v1.ConfigProto instead.\n",
      "\n",
      "W0812 03:50:22.119818 139822823315264 deprecation_wrapper.py:119] From /usr/local/lib/python3.6/dist-packages/keras/backend/tensorflow_backend.py:1834: The name tf.nn.fused_batch_norm is deprecated. Please use tf.compat.v1.nn.fused_batch_norm instead.\n",
      "\n",
      "W0812 03:50:22.277062 139822823315264 deprecation_wrapper.py:119] From /usr/local/lib/python3.6/dist-packages/keras/backend/tensorflow_backend.py:3976: The name tf.nn.max_pool is deprecated. Please use tf.nn.max_pool2d instead.\n",
      "\n",
      "W0812 03:50:22.281810 139822823315264 deprecation.py:506] From /usr/local/lib/python3.6/dist-packages/keras/backend/tensorflow_backend.py:3445: calling dropout (from tensorflow.python.ops.nn_ops) with keep_prob is deprecated and will be removed in a future version.\n",
      "Instructions for updating:\n",
      "Please use `rate` instead of `keep_prob`. Rate should be set to `rate = 1 - keep_prob`.\n",
      "W0812 03:50:22.575020 139822823315264 deprecation_wrapper.py:119] From /usr/local/lib/python3.6/dist-packages/keras/optimizers.py:790: The name tf.train.Optimizer is deprecated. Please use tf.compat.v1.train.Optimizer instead.\n",
      "\n",
      "W0812 03:50:24.125295 139822823315264 deprecation.py:323] From /usr/local/lib/python3.6/dist-packages/tensorflow/python/ops/math_grad.py:1250: add_dispatch_support.<locals>.wrapper (from tensorflow.python.ops.array_ops) is deprecated and will be removed in a future version.\n",
      "Instructions for updating:\n",
      "Use tf.where in 2.0, which has the same broadcast rule as np.where\n"
     ]
    },
    {
     "name": "stdout",
     "output_type": "stream",
     "text": [
      "Epoch 1/25\n",
      "loss:  0.3242098718250098\n",
      "accuracy:  0.8994285714285715\n",
      "Epoch 2/25\n",
      "loss:  0.042437039355052456\n",
      "accuracy:  0.9860238095238095\n",
      "Epoch 3/25\n",
      "loss:  0.03174645437089109\n",
      "accuracy:  0.9900238095238095\n",
      "Epoch 4/25\n",
      "loss:  0.03157360568068273\n",
      "accuracy:  0.9902857142857143\n",
      "Epoch 5/25\n",
      "loss:  0.02124843103081334\n",
      "accuracy:  0.9932142857142857\n",
      "Epoch 6/25\n",
      "loss:  0.022035358601884294\n",
      "accuracy:  0.9926428571428572\n",
      "Epoch 7/25\n",
      "loss:  0.020102457681804006\n",
      "accuracy:  0.9935952380952381\n",
      "Epoch 8/25\n",
      "loss:  0.037136256465065694\n",
      "accuracy:  0.9883809523809524\n",
      "Epoch 9/25\n",
      "loss:  0.014930227841204423\n",
      "accuracy:  0.9953095238095238\n",
      "Epoch 10/25\n",
      "loss:  0.0177657240653505\n",
      "accuracy:  0.994452380952381\n",
      "Epoch 11/25\n",
      "loss:  0.013067151268744791\n",
      "accuracy:  0.9960476190476191\n",
      "Epoch 12/25\n",
      "loss:  0.013301449806587774\n",
      "accuracy:  0.9960238095238095\n",
      "Epoch 13/25\n",
      "loss:  0.011197312943970247\n",
      "accuracy:  0.9965238095238095\n",
      "Epoch 14/25\n",
      "loss:  0.013104387573912036\n",
      "accuracy:  0.9959761904761905\n",
      "Epoch 15/25\n",
      "loss:  0.011759610689138797\n",
      "accuracy:  0.9963095238095238\n",
      "Epoch 16/25\n",
      "loss:  0.012534730517723861\n",
      "accuracy:  0.9957857142857143\n",
      "Epoch 17/25\n",
      "loss:  0.012164903188395918\n",
      "accuracy:  0.9959285714285714\n",
      "Epoch 18/25\n",
      "loss:  0.00887552759086926\n",
      "accuracy:  0.9973333333333333\n",
      "Epoch 19/25\n",
      "loss:  0.010262696221701428\n",
      "accuracy:  0.9969523809523809\n",
      "Epoch 20/25\n",
      "loss:  0.00834436190268094\n",
      "accuracy:  0.9975238095238095\n",
      "Epoch 21/25\n",
      "loss:  0.007741484275715565\n",
      "accuracy:  0.9978809523809524\n",
      "Epoch 22/25\n",
      "loss:  0.007556295891869489\n",
      "accuracy:  0.9980476190476191\n",
      "Epoch 23/25\n",
      "loss:  0.0073828437101757\n",
      "accuracy:  0.9977380952380952\n",
      "Epoch 24/25\n",
      "loss:  0.009365213002137874\n",
      "accuracy:  0.997\n",
      "Epoch 25/25\n",
      "loss:  0.0068503289566867985\n",
      "accuracy:  0.9979047619047619\n"
     ]
    }
   ],
   "source": [
    "num_epochs = 25\n",
    "batch_step = -1\n",
    "min_test_loss=99.0\n",
    "loss_lst = []\n",
    "acc_lst = []\n",
    "indeces = np.array(range(X_train.shape[0]))\n",
    "num_batches = int(np.ceil(X_train.shape[0]/batch_size))\n",
    "model = MODEL()\n",
    "model.compile(optimizer=Nadam(),loss=categorical_crossentropy)\n",
    "for epoch in range(num_epochs):\n",
    "    np.random.shuffle(indeces)\n",
    "    X_train_s = np.copy(X_train[indeces])\n",
    "    Y_train_s = np.copy(Y_train[indeces])\n",
    "    print('Epoch {}/{}'.format(epoch+1,num_epochs))\n",
    "    for bi in range(num_batches):\n",
    "        batch_step += 1\n",
    "        a = bi*batch_size\n",
    "        b = (bi+1)*batch_size\n",
    "        batch_loss = model.train_on_batch(X_train_s[a:b],Y_train_s[a:b])\n",
    "    train_pred = model.predict(X_train)\n",
    "    loss = cat_loss(Y_train,train_pred)\n",
    "    y_hat = np.argmax(train_pred,1)\n",
    "    yy = np.argmax(Y_train,1)\n",
    "    correct_pred = np.equal(y_hat,yy)\n",
    "    cnt = np_count(correct_pred, True)\n",
    "    acc = cnt/X_train.shape[0]\n",
    "    print('loss: ',loss)\n",
    "    print('accuracy: ',acc)\n",
    "    loss_lst.append(loss)\n",
    "    acc_lst.append(acc)"
   ]
  },
  {
   "cell_type": "code",
   "execution_count": 9,
   "metadata": {},
   "outputs": [
    {
     "data": {
      "text/plain": [
       "[<matplotlib.lines.Line2D at 0x7f2a38041518>]"
      ]
     },
     "execution_count": 9,
     "metadata": {},
     "output_type": "execute_result"
    },
    {
     "data": {
      "image/png": "[encoded data removed]",
      "text/plain": [
       "<Figure size 432x288 with 1 Axes>"
      ]
     },
     "metadata": {},
     "output_type": "display_data"
    }
   ],
   "source": [
    "plt.plot(loss_lst)"
   ]
  },
  {
   "cell_type": "code",
   "execution_count": 10,
   "metadata": {},
   "outputs": [
    {
     "data": {
      "text/plain": [
       "[<matplotlib.lines.Line2D at 0x7f29e879a8d0>]"
      ]
     },
     "execution_count": 10,
     "metadata": {},
     "output_type": "execute_result"
    },
    {
     "data": {
      "image/png": "[encoded data removed]",
      "text/plain": [
       "<Figure size 432x288 with 1 Axes>"
      ]
     },
     "metadata": {},
     "output_type": "display_data"
    }
   ],
   "source": [
    "plt.plot(acc_lst)"
   ]
  },
  {
   "cell_type": "code",
   "execution_count": 12,
   "metadata": {},
   "outputs": [],
   "source": [
    "Y_test = model.predict(X_test)\n",
    "Y_test = np.argmax(Y_test,1)\n",
    "Y_test=Y_test.reshape(28000,1)\n",
    "c = np.array([[i+1 for i in range(28000)]]).T\n",
    "ans=np.concatenate((c,Y_test),axis=1)\n",
    "df = pd.DataFrame(ans,columns=['ImageId','Label'])\n",
    "df.to_csv('ans.csv',index=False)"
   ]
  },
  {
   "cell_type": "code",
   "execution_count": null,
   "metadata": {},
   "outputs": [],
   "source": []
  }
 ],
 "metadata": {
  "kernelspec": {
   "display_name": "Python 3",
   "language": "python",
   "name": "python3"
  },
  "language_info": {
   "codemirror_mode": {
    "name": "ipython",
    "version": 3
   },
   "file_extension": ".py",
   "mimetype": "text/x-python",
   "name": "python",
   "nbconvert_exporter": "python",
   "pygments_lexer": "ipython3",
   "version": "3.6.8"
  }
 },
 "nbformat": 4,
 "nbformat_minor": 2
}
