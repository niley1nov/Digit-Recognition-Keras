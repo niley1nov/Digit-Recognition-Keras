{
 "cells": [
  {
   "cell_type": "code",
   "execution_count": 1,
   "metadata": {},
   "outputs": [
    {
     "name": "stderr",
     "output_type": "stream",
     "text": [
      "Using TensorFlow backend.\n"
     ]
    }
   ],
   "source": [
    "import math\n",
    "import numpy as np\n",
    "import pandas as pd\n",
    "import matplotlib.pyplot as plt\n",
    "import scipy\n",
    "from scipy import ndimage\n",
    "from keras.layers import Conv2D,MaxPool2D,LeakyReLU,Flatten,Dense,Input,Dropout,BatchNormalization\n",
    "from keras.models import Model\n",
    "import keras.backend as K\n",
    "from keras.losses import categorical_crossentropy\n",
    "from keras.optimizers import Nadam\n",
    "from keras.regularizers import l2"
   ]
  },
  {
   "cell_type": "code",
   "execution_count": 2,
   "metadata": {},
   "outputs": [],
   "source": [
    "def convert_to_one_hot(Y, C):\n",
    "    Y = Y.astype('int')\n",
    "    Y = np.eye(C)[Y.reshape(-1)].T\n",
    "    return Y"
   ]
  },
  {
   "cell_type": "code",
   "execution_count": 3,
   "metadata": {},
   "outputs": [
    {
     "name": "stdout",
     "output_type": "stream",
     "text": [
      "(42000, 32, 32, 1)\n",
      "(42000, 10)\n",
      "(28000, 32, 32, 1)\n"
     ]
    }
   ],
   "source": [
    "data1 = pd.read_csv('train.csv')\n",
    "data2 = pd.read_csv('test.csv')\n",
    "data1 = np.array(data1)\n",
    "data2 = np.array(data2)\n",
    "X_train = data1[:,1::]/255\n",
    "X_test = data2[:,:]/255\n",
    "n1 = X_train.shape[0]\n",
    "n2 = X_test.shape[0]\n",
    "X_train = np.reshape(X_train,(n1,28,28,1))\n",
    "X_test = np.reshape(X_test,(n2,28,28,1))\n",
    "X_train = np.pad(X_train,((0,0),(2,2),(2,2),(0,0)),'constant')\n",
    "Y_train = data1[:,np.newaxis,0]\n",
    "X_test = np.pad(X_test,((0,0),(2,2),(2,2),(0,0)),'constant')\n",
    "Y_train = convert_to_one_hot(Y_train,10).T\n",
    "print(X_train.shape)\n",
    "print(Y_train.shape)\n",
    "print(X_test.shape)"
   ]
  },
  {
   "cell_type": "code",
   "execution_count": 4,
   "metadata": {},
   "outputs": [],
   "source": [
    "batch_size = 64"
   ]
  },
  {
   "cell_type": "code",
   "execution_count": 5,
   "metadata": {},
   "outputs": [],
   "source": [
    "def MODEL():\n",
    "    X_in = Input(shape=(32,32,1),name='image_in')\n",
    "    \n",
    "    X = Conv2D(filters=32,kernel_size=3)(X_in)\n",
    "    X = BatchNormalization()(X)\n",
    "    X = LeakyReLU()(X)\n",
    "    X = Conv2D(filters=32,kernel_size=3)(X)\n",
    "    X = BatchNormalization()(X)\n",
    "    X = LeakyReLU()(X)\n",
    "    X = Conv2D(filters=32,strides=2,kernel_size=5,padding='same')(X)\n",
    "    X = BatchNormalization()(X)\n",
    "    X = LeakyReLU()(X)\n",
    "    X = Dropout(0.4)(X)\n",
    "    \n",
    "    X = Conv2D(filters=64,kernel_size=3)(X)\n",
    "    X = BatchNormalization()(X)\n",
    "    X = LeakyReLU()(X)\n",
    "    X = Conv2D(filters=64,kernel_size=3)(X)\n",
    "    X = BatchNormalization()(X)\n",
    "    X = LeakyReLU()(X)\n",
    "    X = Conv2D(filters=64,strides=2,kernel_size=5,padding='same')(X)\n",
    "    X = BatchNormalization()(X)\n",
    "    X = LeakyReLU()(X)\n",
    "    X = Dropout(0.4)(X)\n",
    "    \n",
    "    X = Flatten()(X)\n",
    "    \n",
    "    X = Dense(128)(X)\n",
    "    X = BatchNormalization()(X)\n",
    "    X = LeakyReLU()(X)\n",
    "    X = Dropout(0.4)(X)\n",
    "    \n",
    "    X = Dense(10,activation='softmax')(X)\n",
    "    \n",
    "    model = Model(inputs=X_in,outputs=X)\n",
    "    return model"
   ]
  },
  {
   "cell_type": "code",
   "execution_count": 6,
   "metadata": {},
   "outputs": [],
   "source": [
    "def cat_loss(target, output, axis=-1):\n",
    "    output_dimensions = list(range(len(output.shape)))\n",
    "    output /= np.sum(output, axis)[:,None]\n",
    "    output = np.clip(output, K.epsilon(), 1. - K.epsilon())\n",
    "    return -np.mean(np.sum(target * np.log(output), axis))"
   ]
  },
  {
   "cell_type": "code",
   "execution_count": 7,
   "metadata": {},
   "outputs": [],
   "source": [
    "def np_count(t, val):\n",
    "    elements_equal_to_value = np.equal(t, val)\n",
    "    as_ints = elements_equal_to_value.astype('int32')\n",
    "    count = np.sum(as_ints)\n",
    "    return count"
   ]
  },
  {
   "cell_type": "code",
   "execution_count": 11,
   "metadata": {
    "scrolled": true
   },
   "outputs": [],
   "source": [
    "num_epochs = 25\n",
    "batch_step = -1\n",
    "min_test_loss=99.0\n",
    "loss_lst = []\n",
    "acc_lst = []\n",
    "indeces = np.array(range(X_train.shape[0]))\n",
    "num_batches = int(np.ceil(X_train.shape[0]/batch_size))\n",
    "model = MODEL()\n",
    "model.compile(optimizer=Nadam(),loss=categorical_crossentropy)\n",
    "for epoch in range(num_epochs):\n",
    "    np.random.shuffle(indeces)\n",
    "    X_train_s = np.copy(X_train[indeces])\n",
    "    Y_train_s = np.copy(Y_train[indeces])\n",
    "    print('Epoch {}/{}'.format(epoch+1,num_epochs))\n",
    "    for bi in range(num_batches):\n",
    "        batch_step += 1\n",
    "        a = bi*batch_size\n",
    "        b = (bi+1)*batch_size\n",
    "        batch_loss = model.train_on_batch(X_train_s[a:b],Y_train_s[a:b])\n",
    "    train_pred = model.predict(X_train)\n",
    "    loss = cat_loss(Y_train,train_pred)\n",
    "    y_hat = np.argmax(train_pred,1)\n",
    "    yy = np.argmax(Y_train,1)\n",
    "    correct_pred = np.equal(y_hat,yy)\n",
    "    cnt = np_count(correct_pred, True)\n",
    "    acc = cnt/X_train.shape[0]\n",
    "    print('loss: ',loss)\n",
    "    print('accuracy: ',acc)\n",
    "    loss_lst.append(loss)\n",
    "    acc_lst.append(acc)"
   ]
  },
  {
   "cell_type": "code",
   "execution_count": 11,
   "metadata": {},
   "outputs": [
    {
     "data": {
      "text/plain": [
       "[<matplotlib.lines.Line2D at 0x7f8ad1f07358>]"
      ]
     },
     "execution_count": 11,
     "metadata": {},
     "output_type": "execute_result"
    },
    {
     "data": {
      "image/png": "[encoded data removed]",
      "text/plain": [
       "<Figure size 432x288 with 1 Axes>"
      ]
     },
     "metadata": {},
     "output_type": "display_data"
    }
   ],
   "source": [
    "plt.plot(loss_lst)"
   ]
  },
  {
   "cell_type": "code",
   "execution_count": 12,
   "metadata": {},
   "outputs": [
    {
     "data": {
      "text/plain": [
       "[<matplotlib.lines.Line2D at 0x7f8ad1ee64e0>]"
      ]
     },
     "execution_count": 12,
     "metadata": {},
     "output_type": "execute_result"
    },
    {
     "data": {
      "image/png": "[encoded data removed]",
      "text/plain": [
       "<Figure size 432x288 with 1 Axes>"
      ]
     },
     "metadata": {},
     "output_type": "display_data"
    }
   ],
   "source": [
    "plt.plot(acc_lst)"
   ]
  },
  {
   "cell_type": "code",
   "execution_count": 13,
   "metadata": {},
   "outputs": [],
   "source": [
    "Y_test = model.predict(X_test)\n",
    "Y_test = np.argmax(Y_test,1)\n",
    "Y_test=Y_test.reshape(28000,1)\n",
    "c = np.array([[i+1 for i in range(28000)]]).T\n",
    "ans=np.concatenate((c,Y_test),axis=1)\n",
    "df = pd.DataFrame(ans,columns=['ImageId','Label'])\n",
    "df.to_csv('ans.csv',index=False)"
   ]
  }
 ],
 "metadata": {
  "kernelspec": {
   "display_name": "Python 3",
   "language": "python",
   "name": "python3"
  },
  "language_info": {
   "codemirror_mode": {
    "name": "ipython",
    "version": 3
   },
   "file_extension": ".py",
   "mimetype": "text/x-python",
   "name": "python",
   "nbconvert_exporter": "python",
   "pygments_lexer": "ipython3",
   "version": "3.6.8"
  }
 },
 "nbformat": 4,
 "nbformat_minor": 2
}
