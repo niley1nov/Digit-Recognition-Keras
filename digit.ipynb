{
 "cells": [
  {
   "cell_type": "code",
   "execution_count": 27,
   "metadata": {},
   "outputs": [],
   "source": [
    "import math\n",
    "import numpy as np\n",
    "import pandas as pd\n",
    "import matplotlib.pyplot as plt\n",
    "import scipy\n",
    "from scipy import ndimage\n",
    "from keras.layers import Conv2D,MaxPool2D,LeakyReLU,Flatten,Dense,Input,Dropout,BatchNormalization\n",
    "from keras.models import Model\n",
    "import keras.backend as K\n",
    "from keras.losses import categorical_crossentropy\n",
    "from keras.optimizers import Nadam\n",
    "from keras.regularizers import l2"
   ]
  },
  {
   "cell_type": "code",
   "execution_count": 28,
   "metadata": {},
   "outputs": [],
   "source": [
    "def convert_to_one_hot(Y, C):\n",
    "    Y = Y.astype('int')\n",
    "    Y = np.eye(C)[Y.reshape(-1)].T\n",
    "    return Y"
   ]
  },
  {
   "cell_type": "code",
   "execution_count": 29,
   "metadata": {},
   "outputs": [
    {
     "name": "stdout",
     "output_type": "stream",
     "text": [
      "(42000, 28, 28, 1)\n",
      "(42000, 10)\n",
      "(28000, 28, 28, 1)\n"
     ]
    }
   ],
   "source": [
    "data1 = pd.read_csv('train.csv')\n",
    "data2 = pd.read_csv('test.csv')\n",
    "data1 = np.array(data1)\n",
    "data2 = np.array(data2)\n",
    "X_train = data1[:,1::]/255\n",
    "X_test = data2[:,:]/255\n",
    "n1 = X_train.shape[0]\n",
    "n2 = X_test.shape[0]\n",
    "X_train = np.reshape(X_train,(n1,28,28,1))\n",
    "X_test = np.reshape(X_test,(n2,28,28,1))\n",
    "Y_train = data1[:,np.newaxis,0]\n",
    "Y_train = convert_to_one_hot(Y_train,10).T\n",
    "print(X_train.shape)\n",
    "print(Y_train.shape)\n",
    "print(X_test.shape)"
   ]
  },
  {
   "cell_type": "code",
   "execution_count": 30,
   "metadata": {},
   "outputs": [],
   "source": [
    "batch_size = 64"
   ]
  },
  {
   "cell_type": "code",
   "execution_count": 31,
   "metadata": {},
   "outputs": [],
   "source": [
    "def MODEL():\n",
    "    X_in = Input(shape=(28,28,1),name='image_in')\n",
    "    \n",
    "    X = Conv2D(filters=32,kernel_size=3)(X_in)\n",
    "    X = BatchNormalization()(X)\n",
    "    X = LeakyReLU()(X)\n",
    "    X = Conv2D(filters=32,kernel_size=3)(X)\n",
    "    X = BatchNormalization()(X)\n",
    "    X = LeakyReLU()(X)\n",
    "    X = MaxPool2D()(X)\n",
    "#     X = Conv2D(filters=32,strides=2,kernel_size=5,padding='same')(X)\n",
    "#     X = BatchNormalization()(X)\n",
    "#     X = LeakyReLU()(X)\n",
    "#     X = Dropout(0.4)(X)\n",
    "    \n",
    "    X = Conv2D(filters=64,kernel_size=3)(X)\n",
    "    X = BatchNormalization()(X)\n",
    "    X = LeakyReLU()(X)\n",
    "    X = Conv2D(filters=64,kernel_size=3)(X)\n",
    "    X = BatchNormalization()(X)\n",
    "    X = LeakyReLU()(X)\n",
    "    X = MaxPool2D()(X)\n",
    "#     X = Conv2D(filters=64,strides=2,kernel_size=5,padding='same')(X)\n",
    "#     X = BatchNormalization()(X)\n",
    "#     X = LeakyReLU()(X)\n",
    "#     X = Dropout(0.4)(X)\n",
    "    \n",
    "    X = Flatten()(X)\n",
    "    \n",
    "    X = Dense(128)(X)\n",
    "    X = BatchNormalization()(X)\n",
    "    X = LeakyReLU()(X)\n",
    "    X = Dropout(0.4)(X)\n",
    "    \n",
    "    X = Dense(10,activation='softmax')(X)\n",
    "    \n",
    "    model = Model(inputs=X_in,outputs=X)\n",
    "    return model"
   ]
  },
  {
   "cell_type": "code",
   "execution_count": 32,
   "metadata": {},
   "outputs": [],
   "source": [
    "def cat_loss(target, output, axis=-1):\n",
    "    output_dimensions = list(range(len(output.shape)))\n",
    "    output /= np.sum(output, axis)[:,None]\n",
    "    output = np.clip(output, K.epsilon(), 1. - K.epsilon())\n",
    "    return -np.mean(np.sum(target * np.log(output), axis))"
   ]
  },
  {
   "cell_type": "code",
   "execution_count": 33,
   "metadata": {},
   "outputs": [],
   "source": [
    "def np_count(t, val):\n",
    "    elements_equal_to_value = np.equal(t, val)\n",
    "    as_ints = elements_equal_to_value.astype('int32')\n",
    "    count = np.sum(as_ints)\n",
    "    return count"
   ]
  },
  {
   "cell_type": "code",
   "execution_count": 34,
   "metadata": {
    "scrolled": true
   },
   "outputs": [
    {
     "name": "stderr",
     "output_type": "stream",
     "text": [
      "W0811 11:24:24.271440 139924752713536 deprecation_wrapper.py:119] From /usr/local/lib/python3.6/dist-packages/keras/backend/tensorflow_backend.py:3976: The name tf.nn.max_pool is deprecated. Please use tf.nn.max_pool2d instead.\n",
      "\n"
     ]
    },
    {
     "name": "stdout",
     "output_type": "stream",
     "text": [
      "Epoch 1/25\n",
      "loss:  0.055985649069995466\n",
      "accuracy:  0.9816666666666667\n",
      "Epoch 2/25\n",
      "loss:  0.040128976277603604\n",
      "accuracy:  0.9873095238095239\n",
      "Epoch 3/25\n",
      "loss:  0.02470544640440685\n",
      "accuracy:  0.9922142857142857\n",
      "Epoch 4/25\n",
      "loss:  0.018498632321681086\n",
      "accuracy:  0.9937380952380952\n",
      "Epoch 5/25\n",
      "loss:  0.01590375004399631\n",
      "accuracy:  0.9949761904761905\n",
      "Epoch 6/25\n",
      "loss:  0.033702819675025\n",
      "accuracy:  0.9891190476190476\n",
      "Epoch 7/25\n",
      "loss:  0.014255350873716127\n",
      "accuracy:  0.9956428571428572\n",
      "Epoch 8/25\n",
      "loss:  0.01267762388110931\n",
      "accuracy:  0.996\n",
      "Epoch 9/25\n",
      "loss:  0.021760600744108714\n",
      "accuracy:  0.9927857142857143\n",
      "Epoch 10/25\n",
      "loss:  0.014731935846804855\n",
      "accuracy:  0.9950476190476191\n",
      "Epoch 11/25\n",
      "loss:  0.008791717184050168\n",
      "accuracy:  0.9972380952380953\n",
      "Epoch 12/25\n",
      "loss:  0.010886386885323852\n",
      "accuracy:  0.9965\n",
      "Epoch 13/25\n",
      "loss:  0.00803931526932767\n",
      "accuracy:  0.9976904761904762\n",
      "Epoch 14/25\n",
      "loss:  0.01135211176952546\n",
      "accuracy:  0.9961190476190476\n",
      "Epoch 15/25\n",
      "loss:  0.007547385462202362\n",
      "accuracy:  0.9974761904761905\n",
      "Epoch 16/25\n",
      "loss:  0.007152191294991672\n",
      "accuracy:  0.9976904761904762\n",
      "Epoch 17/25\n",
      "loss:  0.007632731978602052\n",
      "accuracy:  0.9975\n",
      "Epoch 18/25\n",
      "loss:  0.007203543105887719\n",
      "accuracy:  0.9974761904761905\n",
      "Epoch 19/25\n",
      "loss:  0.0023677025734415123\n",
      "accuracy:  0.9993333333333333\n",
      "Epoch 20/25\n",
      "loss:  0.005431451140220537\n",
      "accuracy:  0.9980238095238095\n",
      "Epoch 21/25\n",
      "loss:  0.004576432177220501\n",
      "accuracy:  0.9983809523809524\n",
      "Epoch 22/25\n",
      "loss:  0.003259090324938653\n",
      "accuracy:  0.999\n",
      "Epoch 23/25\n",
      "loss:  0.003132810587291949\n",
      "accuracy:  0.9990238095238095\n",
      "Epoch 24/25\n",
      "loss:  0.0029334427326023808\n",
      "accuracy:  0.9992142857142857\n",
      "Epoch 25/25\n",
      "loss:  0.004985423752650585\n",
      "accuracy:  0.9986190476190476\n"
     ]
    }
   ],
   "source": [
    "num_epochs = 25\n",
    "batch_step = -1\n",
    "min_test_loss=99.0\n",
    "loss_lst = []\n",
    "acc_lst = []\n",
    "indeces = np.array(range(X_train.shape[0]))\n",
    "num_batches = int(np.ceil(X_train.shape[0]/batch_size))\n",
    "model = MODEL()\n",
    "model.compile(optimizer=Nadam(),loss=categorical_crossentropy)\n",
    "for epoch in range(num_epochs):\n",
    "    np.random.shuffle(indeces)\n",
    "    X_train_s = np.copy(X_train[indeces])\n",
    "    Y_train_s = np.copy(Y_train[indeces])\n",
    "    print('Epoch {}/{}'.format(epoch+1,num_epochs))\n",
    "    for bi in range(num_batches):\n",
    "        batch_step += 1\n",
    "        a = bi*batch_size\n",
    "        b = (bi+1)*batch_size\n",
    "        batch_loss = model.train_on_batch(X_train_s[a:b],Y_train_s[a:b])\n",
    "    train_pred = model.predict(X_train)\n",
    "    loss = cat_loss(Y_train,train_pred)\n",
    "    y_hat = np.argmax(train_pred,1)\n",
    "    yy = np.argmax(Y_train,1)\n",
    "    correct_pred = np.equal(y_hat,yy)\n",
    "    cnt = np_count(correct_pred, True)\n",
    "    acc = cnt/X_train.shape[0]\n",
    "    print('loss: ',loss)\n",
    "    print('accuracy: ',acc)\n",
    "    loss_lst.append(loss)\n",
    "    acc_lst.append(acc)"
   ]
  },
  {
   "cell_type": "code",
   "execution_count": 40,
   "metadata": {},
   "outputs": [
    {
     "data": {
      "text/plain": [
       "[<matplotlib.lines.Line2D at 0x7f421c6d2048>]"
      ]
     },
     "execution_count": 40,
     "metadata": {},
     "output_type": "execute_result"
    },
    {
     "data": {
      "image/png": "[encoded data removed]",
      "text/plain": [
       "<Figure size 432x288 with 1 Axes>"
      ]
     },
     "metadata": {},
     "output_type": "display_data"
    }
   ],
   "source": [
    "plt.plot(loss_lst)"
   ]
  },
  {
   "cell_type": "code",
   "execution_count": 36,
   "metadata": {},
   "outputs": [
    {
     "data": {
      "text/plain": [
       "[<matplotlib.lines.Line2D at 0x7f421c78a7b8>]"
      ]
     },
     "execution_count": 36,
     "metadata": {},
     "output_type": "execute_result"
    },
    {
     "data": {
      "image/png": "[encoded data removed]",
      "text/plain": [
       "<Figure size 432x288 with 1 Axes>"
      ]
     },
     "metadata": {},
     "output_type": "display_data"
    }
   ],
   "source": [
    "plt.plot(acc_lst)"
   ]
  },
  {
   "cell_type": "code",
   "execution_count": 38,
   "metadata": {},
   "outputs": [],
   "source": [
    "Y_test = model.predict(X_test)\n",
    "Y_test = np.argmax(Y_test,1)\n",
    "Y_test=Y_test.reshape(28000,1)\n",
    "c = np.array([[i+1 for i in range(28000)]]).T\n",
    "ans=np.concatenate((c,Y_test),axis=1)\n",
    "df = pd.DataFrame(ans,columns=['ImageId','Label'])\n",
    "df.to_csv('ans.csv',index=False)"
   ]
  },
  {
   "cell_type": "code",
   "execution_count": null,
   "metadata": {},
   "outputs": [],
   "source": []
  }
 ],
 "metadata": {
  "kernelspec": {
   "display_name": "Python 3",
   "language": "python",
   "name": "python3"
  },
  "language_info": {
   "codemirror_mode": {
    "name": "ipython",
    "version": 3
   },
   "file_extension": ".py",
   "mimetype": "text/x-python",
   "name": "python",
   "nbconvert_exporter": "python",
   "pygments_lexer": "ipython3",
   "version": "3.6.8"
  }
 },
 "nbformat": 4,
 "nbformat_minor": 2
}
